{
 "cells": [
  {
   "cell_type": "markdown",
   "metadata": {},
   "source": [
    "# NBA 2019/2020 Season Restart Prediction"
   ]
  },
  {
   "cell_type": "code",
   "execution_count": 40,
   "metadata": {},
   "outputs": [],
   "source": [
    "# This Python 3 environment comes with many helpful analytics libraries installed\n",
    "\n",
    "import numpy as np # linear algebra\n",
    "import pandas as pd # data processing, CSV file I/O (e.g. pd.read_csv)\n",
    "import sklearn as sk"
   ]
  },
  {
   "cell_type": "code",
   "execution_count": 6,
   "metadata": {},
   "outputs": [],
   "source": [
    "fileName_TPGS = 'datasets/2019_2020_Regular_TPGS.csv'\n",
    "fileName_OPGS = 'datasets/2019_2020_Regular_OPGS.csv'\n",
    "fileName_Miscellaneous = 'datasets/2019_2020_Miscellaneous.csv'\n",
    "fileName_Results = 'datasets/2019_2020_Regular_Results.csv'"
   ]
  },
  {
   "cell_type": "code",
   "execution_count": 24,
   "metadata": {},
   "outputs": [],
   "source": [
    "df_Results = pd.read_csv(fileName_Results)\n",
    "df_Results.drop(columns = ['Start (ET)', 'Unnamed: 6', 'Unnamed: 7', 'Notes', 'Attend.', 'Notes'], inplace = True)\n",
    "df_Results[\"MarginHome\"] = df_Results['PTS.1'] - df_Results['PTS']\n",
    "df_Results.columns = ['Date', 'Team Away', 'Points Away', 'Team Home', 'Points Home', 'Margin Home']"
   ]
  },
  {
   "cell_type": "code",
   "execution_count": 25,
   "metadata": {},
   "outputs": [
    {
     "data": {
      "text/html": [
       "<div>\n",
       "<style scoped>\n",
       "    .dataframe tbody tr th:only-of-type {\n",
       "        vertical-align: middle;\n",
       "    }\n",
       "\n",
       "    .dataframe tbody tr th {\n",
       "        vertical-align: top;\n",
       "    }\n",
       "\n",
       "    .dataframe thead th {\n",
       "        text-align: right;\n",
       "    }\n",
       "</style>\n",
       "<table border=\"1\" class=\"dataframe\">\n",
       "  <thead>\n",
       "    <tr style=\"text-align: right;\">\n",
       "      <th></th>\n",
       "      <th>Date</th>\n",
       "      <th>Team Away</th>\n",
       "      <th>Points Away</th>\n",
       "      <th>Team Home</th>\n",
       "      <th>Points Home</th>\n",
       "      <th>Margin Home</th>\n",
       "    </tr>\n",
       "  </thead>\n",
       "  <tbody>\n",
       "    <tr>\n",
       "      <th>0</th>\n",
       "      <td>Tue Oct 22 2019</td>\n",
       "      <td>New Orleans Pelicans</td>\n",
       "      <td>122</td>\n",
       "      <td>Toronto Raptors</td>\n",
       "      <td>130</td>\n",
       "      <td>8</td>\n",
       "    </tr>\n",
       "    <tr>\n",
       "      <th>1</th>\n",
       "      <td>Tue Oct 22 2019</td>\n",
       "      <td>Los Angeles Lakers</td>\n",
       "      <td>102</td>\n",
       "      <td>Los Angeles Clippers</td>\n",
       "      <td>112</td>\n",
       "      <td>10</td>\n",
       "    </tr>\n",
       "    <tr>\n",
       "      <th>2</th>\n",
       "      <td>Wed Oct 23 2019</td>\n",
       "      <td>Chicago Bulls</td>\n",
       "      <td>125</td>\n",
       "      <td>Charlotte Hornets</td>\n",
       "      <td>126</td>\n",
       "      <td>1</td>\n",
       "    </tr>\n",
       "    <tr>\n",
       "      <th>3</th>\n",
       "      <td>Wed Oct 23 2019</td>\n",
       "      <td>Detroit Pistons</td>\n",
       "      <td>119</td>\n",
       "      <td>Indiana Pacers</td>\n",
       "      <td>110</td>\n",
       "      <td>-9</td>\n",
       "    </tr>\n",
       "    <tr>\n",
       "      <th>4</th>\n",
       "      <td>Wed Oct 23 2019</td>\n",
       "      <td>Cleveland Cavaliers</td>\n",
       "      <td>85</td>\n",
       "      <td>Orlando Magic</td>\n",
       "      <td>94</td>\n",
       "      <td>9</td>\n",
       "    </tr>\n",
       "    <tr>\n",
       "      <th>...</th>\n",
       "      <td>...</td>\n",
       "      <td>...</td>\n",
       "      <td>...</td>\n",
       "      <td>...</td>\n",
       "      <td>...</td>\n",
       "      <td>...</td>\n",
       "    </tr>\n",
       "    <tr>\n",
       "      <th>966</th>\n",
       "      <td>Tue Mar 10 2020</td>\n",
       "      <td>Los Angeles Clippers</td>\n",
       "      <td>131</td>\n",
       "      <td>Golden State Warriors</td>\n",
       "      <td>107</td>\n",
       "      <td>-24</td>\n",
       "    </tr>\n",
       "    <tr>\n",
       "      <th>967</th>\n",
       "      <td>Wed Mar 11 2020</td>\n",
       "      <td>Detroit Pistons</td>\n",
       "      <td>106</td>\n",
       "      <td>Philadelphia 76ers</td>\n",
       "      <td>124</td>\n",
       "      <td>18</td>\n",
       "    </tr>\n",
       "    <tr>\n",
       "      <th>968</th>\n",
       "      <td>Wed Mar 11 2020</td>\n",
       "      <td>New York Knicks</td>\n",
       "      <td>136</td>\n",
       "      <td>Atlanta Hawks</td>\n",
       "      <td>131</td>\n",
       "      <td>-5</td>\n",
       "    </tr>\n",
       "    <tr>\n",
       "      <th>969</th>\n",
       "      <td>Wed Mar 11 2020</td>\n",
       "      <td>Charlotte Hornets</td>\n",
       "      <td>109</td>\n",
       "      <td>Miami Heat</td>\n",
       "      <td>98</td>\n",
       "      <td>-11</td>\n",
       "    </tr>\n",
       "    <tr>\n",
       "      <th>970</th>\n",
       "      <td>Wed Mar 11 2020</td>\n",
       "      <td>Denver Nuggets</td>\n",
       "      <td>97</td>\n",
       "      <td>Dallas Mavericks</td>\n",
       "      <td>113</td>\n",
       "      <td>16</td>\n",
       "    </tr>\n",
       "  </tbody>\n",
       "</table>\n",
       "<p>971 rows × 6 columns</p>\n",
       "</div>"
      ],
      "text/plain": [
       "                Date             Team Away  Points Away  \\\n",
       "0    Tue Oct 22 2019  New Orleans Pelicans          122   \n",
       "1    Tue Oct 22 2019    Los Angeles Lakers          102   \n",
       "2    Wed Oct 23 2019         Chicago Bulls          125   \n",
       "3    Wed Oct 23 2019       Detroit Pistons          119   \n",
       "4    Wed Oct 23 2019   Cleveland Cavaliers           85   \n",
       "..               ...                   ...          ...   \n",
       "966  Tue Mar 10 2020  Los Angeles Clippers          131   \n",
       "967  Wed Mar 11 2020       Detroit Pistons          106   \n",
       "968  Wed Mar 11 2020       New York Knicks          136   \n",
       "969  Wed Mar 11 2020     Charlotte Hornets          109   \n",
       "970  Wed Mar 11 2020        Denver Nuggets           97   \n",
       "\n",
       "                 Team Home  Points Home  Margin Home  \n",
       "0          Toronto Raptors          130            8  \n",
       "1     Los Angeles Clippers          112           10  \n",
       "2        Charlotte Hornets          126            1  \n",
       "3           Indiana Pacers          110           -9  \n",
       "4            Orlando Magic           94            9  \n",
       "..                     ...          ...          ...  \n",
       "966  Golden State Warriors          107          -24  \n",
       "967     Philadelphia 76ers          124           18  \n",
       "968          Atlanta Hawks          131           -5  \n",
       "969             Miami Heat           98          -11  \n",
       "970       Dallas Mavericks          113           16  \n",
       "\n",
       "[971 rows x 6 columns]"
      ]
     },
     "execution_count": 25,
     "metadata": {},
     "output_type": "execute_result"
    }
   ],
   "source": [
    "df_Results"
   ]
  },
  {
   "cell_type": "markdown",
   "metadata": {},
   "source": [
    "## How frequently do the home teams win?"
   ]
  },
  {
   "cell_type": "markdown",
   "metadata": {},
   "source": [
    "Typically, the assumption is that home teams will win more often than not."
   ]
  },
  {
   "cell_type": "code",
   "execution_count": 27,
   "metadata": {},
   "outputs": [],
   "source": [
    "df_Results['Home Win'] = df_Results['Margin Home'] > 0\n",
    "y_true = df_Results['Home Win'].values"
   ]
  },
  {
   "cell_type": "code",
   "execution_count": 28,
   "metadata": {},
   "outputs": [
    {
     "data": {
      "text/html": [
       "<div>\n",
       "<style scoped>\n",
       "    .dataframe tbody tr th:only-of-type {\n",
       "        vertical-align: middle;\n",
       "    }\n",
       "\n",
       "    .dataframe tbody tr th {\n",
       "        vertical-align: top;\n",
       "    }\n",
       "\n",
       "    .dataframe thead th {\n",
       "        text-align: right;\n",
       "    }\n",
       "</style>\n",
       "<table border=\"1\" class=\"dataframe\">\n",
       "  <thead>\n",
       "    <tr style=\"text-align: right;\">\n",
       "      <th></th>\n",
       "      <th>Date</th>\n",
       "      <th>Team Away</th>\n",
       "      <th>Points Away</th>\n",
       "      <th>Team Home</th>\n",
       "      <th>Points Home</th>\n",
       "      <th>Margin Home</th>\n",
       "      <th>Home Win</th>\n",
       "    </tr>\n",
       "  </thead>\n",
       "  <tbody>\n",
       "    <tr>\n",
       "      <th>0</th>\n",
       "      <td>Tue Oct 22 2019</td>\n",
       "      <td>New Orleans Pelicans</td>\n",
       "      <td>122</td>\n",
       "      <td>Toronto Raptors</td>\n",
       "      <td>130</td>\n",
       "      <td>8</td>\n",
       "      <td>True</td>\n",
       "    </tr>\n",
       "    <tr>\n",
       "      <th>1</th>\n",
       "      <td>Tue Oct 22 2019</td>\n",
       "      <td>Los Angeles Lakers</td>\n",
       "      <td>102</td>\n",
       "      <td>Los Angeles Clippers</td>\n",
       "      <td>112</td>\n",
       "      <td>10</td>\n",
       "      <td>True</td>\n",
       "    </tr>\n",
       "    <tr>\n",
       "      <th>2</th>\n",
       "      <td>Wed Oct 23 2019</td>\n",
       "      <td>Chicago Bulls</td>\n",
       "      <td>125</td>\n",
       "      <td>Charlotte Hornets</td>\n",
       "      <td>126</td>\n",
       "      <td>1</td>\n",
       "      <td>True</td>\n",
       "    </tr>\n",
       "    <tr>\n",
       "      <th>3</th>\n",
       "      <td>Wed Oct 23 2019</td>\n",
       "      <td>Detroit Pistons</td>\n",
       "      <td>119</td>\n",
       "      <td>Indiana Pacers</td>\n",
       "      <td>110</td>\n",
       "      <td>-9</td>\n",
       "      <td>False</td>\n",
       "    </tr>\n",
       "    <tr>\n",
       "      <th>4</th>\n",
       "      <td>Wed Oct 23 2019</td>\n",
       "      <td>Cleveland Cavaliers</td>\n",
       "      <td>85</td>\n",
       "      <td>Orlando Magic</td>\n",
       "      <td>94</td>\n",
       "      <td>9</td>\n",
       "      <td>True</td>\n",
       "    </tr>\n",
       "    <tr>\n",
       "      <th>...</th>\n",
       "      <td>...</td>\n",
       "      <td>...</td>\n",
       "      <td>...</td>\n",
       "      <td>...</td>\n",
       "      <td>...</td>\n",
       "      <td>...</td>\n",
       "      <td>...</td>\n",
       "    </tr>\n",
       "    <tr>\n",
       "      <th>966</th>\n",
       "      <td>Tue Mar 10 2020</td>\n",
       "      <td>Los Angeles Clippers</td>\n",
       "      <td>131</td>\n",
       "      <td>Golden State Warriors</td>\n",
       "      <td>107</td>\n",
       "      <td>-24</td>\n",
       "      <td>False</td>\n",
       "    </tr>\n",
       "    <tr>\n",
       "      <th>967</th>\n",
       "      <td>Wed Mar 11 2020</td>\n",
       "      <td>Detroit Pistons</td>\n",
       "      <td>106</td>\n",
       "      <td>Philadelphia 76ers</td>\n",
       "      <td>124</td>\n",
       "      <td>18</td>\n",
       "      <td>True</td>\n",
       "    </tr>\n",
       "    <tr>\n",
       "      <th>968</th>\n",
       "      <td>Wed Mar 11 2020</td>\n",
       "      <td>New York Knicks</td>\n",
       "      <td>136</td>\n",
       "      <td>Atlanta Hawks</td>\n",
       "      <td>131</td>\n",
       "      <td>-5</td>\n",
       "      <td>False</td>\n",
       "    </tr>\n",
       "    <tr>\n",
       "      <th>969</th>\n",
       "      <td>Wed Mar 11 2020</td>\n",
       "      <td>Charlotte Hornets</td>\n",
       "      <td>109</td>\n",
       "      <td>Miami Heat</td>\n",
       "      <td>98</td>\n",
       "      <td>-11</td>\n",
       "      <td>False</td>\n",
       "    </tr>\n",
       "    <tr>\n",
       "      <th>970</th>\n",
       "      <td>Wed Mar 11 2020</td>\n",
       "      <td>Denver Nuggets</td>\n",
       "      <td>97</td>\n",
       "      <td>Dallas Mavericks</td>\n",
       "      <td>113</td>\n",
       "      <td>16</td>\n",
       "      <td>True</td>\n",
       "    </tr>\n",
       "  </tbody>\n",
       "</table>\n",
       "<p>971 rows × 7 columns</p>\n",
       "</div>"
      ],
      "text/plain": [
       "                Date             Team Away  Points Away  \\\n",
       "0    Tue Oct 22 2019  New Orleans Pelicans          122   \n",
       "1    Tue Oct 22 2019    Los Angeles Lakers          102   \n",
       "2    Wed Oct 23 2019         Chicago Bulls          125   \n",
       "3    Wed Oct 23 2019       Detroit Pistons          119   \n",
       "4    Wed Oct 23 2019   Cleveland Cavaliers           85   \n",
       "..               ...                   ...          ...   \n",
       "966  Tue Mar 10 2020  Los Angeles Clippers          131   \n",
       "967  Wed Mar 11 2020       Detroit Pistons          106   \n",
       "968  Wed Mar 11 2020       New York Knicks          136   \n",
       "969  Wed Mar 11 2020     Charlotte Hornets          109   \n",
       "970  Wed Mar 11 2020        Denver Nuggets           97   \n",
       "\n",
       "                 Team Home  Points Home  Margin Home  Home Win  \n",
       "0          Toronto Raptors          130            8      True  \n",
       "1     Los Angeles Clippers          112           10      True  \n",
       "2        Charlotte Hornets          126            1      True  \n",
       "3           Indiana Pacers          110           -9     False  \n",
       "4            Orlando Magic           94            9      True  \n",
       "..                     ...          ...          ...       ...  \n",
       "966  Golden State Warriors          107          -24     False  \n",
       "967     Philadelphia 76ers          124           18      True  \n",
       "968          Atlanta Hawks          131           -5     False  \n",
       "969             Miami Heat           98          -11     False  \n",
       "970       Dallas Mavericks          113           16      True  \n",
       "\n",
       "[971 rows x 7 columns]"
      ]
     },
     "execution_count": 28,
     "metadata": {},
     "output_type": "execute_result"
    }
   ],
   "source": [
    "df_Results"
   ]
  },
  {
   "cell_type": "code",
   "execution_count": 29,
   "metadata": {},
   "outputs": [
    {
     "name": "stdout",
     "output_type": "stream",
     "text": [
      "Home Win Percentage: 55.10%\n"
     ]
    }
   ],
   "source": [
    "total_games = df_Results['Home Win'].count()\n",
    "total_home_wins = df_Results['Home Win'].sum()\n",
    "win_percent = total_home_wins / total_games\n",
    "\n",
    "print('Home Win Percentage: {0:.2f}%'.format(100 * win_percent))"
   ]
  },
  {
   "cell_type": "markdown",
   "metadata": {},
   "source": [
    "The home teams' win percentage is 58.0%. If a model is considered useful, it must (at minimum) have a better score than the established baseline."
   ]
  },
  {
   "cell_type": "markdown",
   "metadata": {},
   "source": [
    "### Setting up a Classifier"
   ]
  },
  {
   "cell_type": "code",
   "execution_count": 31,
   "metadata": {},
   "outputs": [
    {
     "name": "stdout",
     "output_type": "stream",
     "text": [
      "F1: 39.1465%\n"
     ]
    }
   ],
   "source": [
    "# Predicting the baseline for Home Teams wins with Binary Classification\n",
    "\n",
    "from sklearn.metrics import f1_score\n",
    "\n",
    "y_pred = [1] * len(y_true)\n",
    "print('F1: {0:.4f}%'.format(f1_score(y_true, y_pred, pos_label = None, average = 'weighted') * 100))"
   ]
  },
  {
   "cell_type": "markdown",
   "metadata": {},
   "source": [
    "The calculated F1 score of 39.1% is the score to beat."
   ]
  },
  {
   "cell_type": "markdown",
   "metadata": {},
   "source": [
    "## Streaks"
   ]
  },
  {
   "cell_type": "code",
   "execution_count": 41,
   "metadata": {},
   "outputs": [],
   "source": [
    "from sklearn.tree import DecisionTreeClassifier\n",
    "dtc = DecisionTreeClassifier(random_state = 2020)"
   ]
  },
  {
   "cell_type": "code",
   "execution_count": 42,
   "metadata": {},
   "outputs": [],
   "source": [
    "df_Results['Home Last Win'] = False\n",
    "df_Results['Visitor Last Win'] = False"
   ]
  },
  {
   "cell_type": "code",
   "execution_count": null,
   "metadata": {},
   "outputs": [],
   "source": []
  }
 ],
 "metadata": {
  "kernelspec": {
   "display_name": "Python 3",
   "language": "python",
   "name": "python3"
  },
  "language_info": {
   "codemirror_mode": {
    "name": "ipython",
    "version": 3
   },
   "file_extension": ".py",
   "mimetype": "text/x-python",
   "name": "python",
   "nbconvert_exporter": "python",
   "pygments_lexer": "ipython3",
   "version": "3.7.0"
  }
 },
 "nbformat": 4,
 "nbformat_minor": 4
}
